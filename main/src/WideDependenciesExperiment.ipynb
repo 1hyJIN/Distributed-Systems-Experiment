{
 "cells": [
  {
   "cell_type": "code",
   "execution_count": 1,
   "metadata": {},
   "outputs": [
    {
     "name": "stdout",
     "output_type": "stream",
     "text": [
      "reduceByKey() execution time: 1.3369126319885254 seconds\n",
      "groupByKey() execution time: 0.3918778896331787 seconds\n",
      "join() execution time: 0.4902005195617676 seconds\n"
     ]
    }
   ],
   "source": [
    "# 实验 1：不同的宽依赖操作对 Stage 划分的影响\n",
    "from pyspark.sql import SparkSession\n",
    "import time\n",
    "\n",
    "# 初始化 Spark 会话\n",
    "# spark = SparkSession.builder.appName(\"WideDependenciesExperiment\").getOrCreate()\n",
    "spark = SparkSession.builder.appName(\"WideDependenciesExperiment\").master(\"spark://ecnu01:7077\") \\\n",
    "    .config(\"spark.executor.memory\", \"14g\") \\\n",
    "    .config(\"spark.executor.cores\", \"16\") \\\n",
    "    .config(\"spark.executor.instances\", \"2\") \\\n",
    "    .getOrCreate()\n",
    "sc = spark.sparkContext\n",
    "\n",
    "# 示例数据\n",
    "data = [('a', 1), ('b', 2), ('a', 3), ('b', 4), ('c', 5), ('c', 6)]\n",
    "\n",
    "# 创建 RDD\n",
    "rdd = sc.parallelize(data)\n",
    "\n",
    "# 实验 1: reduceByKey\n",
    "start_time = time.time()\n",
    "rdd_reduce = rdd.reduceByKey(lambda x, y: x + y)\n",
    "rdd_reduce.collect()  # 触发行动操作\n",
    "end_time = time.time()\n",
    "print(f\"reduceByKey() execution time: {end_time - start_time} seconds\")\n",
    "\n",
    "# 实验 2: groupBy\n",
    "start_time = time.time()\n",
    "rdd_groupby = rdd.groupByKey()\n",
    "rdd_groupby.collect()  # 触发行动操作\n",
    "end_time = time.time()\n",
    "print(f\"groupByKey() execution time: {end_time - start_time} seconds\")\n",
    "\n",
    "\n",
    "# 实验 3: join\n",
    "rdd2 = sc.parallelize([('a', 10), ('b', 20), ('c', 30)])\n",
    "start_time = time.time()\n",
    "rdd_join = rdd.join(rdd2)\n",
    "rdd_join.collect()  # 触发行动操作\n",
    "end_time = time.time()\n",
    "print(f\"join() execution time: {end_time - start_time} seconds\")\n",
    "\n",
    "\n",
    "sc.stop()\n"
   ]
  },
  {
   "cell_type": "code",
   "execution_count": null,
   "metadata": {},
   "outputs": [],
   "source": []
  }
 ],
 "metadata": {
  "kernelspec": {
   "display_name": "envpyspark",
   "language": "python",
   "name": "envpyspark"
  },
  "language_info": {
   "codemirror_mode": {
    "name": "ipython",
    "version": 3
   },
   "file_extension": ".py",
   "mimetype": "text/x-python",
   "name": "python",
   "nbconvert_exporter": "python",
   "pygments_lexer": "ipython3",
   "version": "3.6.15"
  }
 },
 "nbformat": 4,
 "nbformat_minor": 4
}
