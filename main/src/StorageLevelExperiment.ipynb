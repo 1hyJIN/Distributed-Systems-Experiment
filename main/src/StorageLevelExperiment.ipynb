{
 "cells": [
  {
   "cell_type": "code",
   "execution_count": 1,
   "metadata": {},
   "outputs": [
    {
     "name": "stdout",
     "output_type": "stream",
     "text": [
      "\n",
      "Testing with storage level: Memory Serialized 1x Replicated\n",
      "Execution time with storage level Memory Serialized 1x Replicated: 8.406356573104858 seconds\n",
      "\n",
      "Testing with storage level: Disk Memory Serialized 1x Replicated\n",
      "Execution time with storage level Disk Memory Serialized 1x Replicated: 5.841069221496582 seconds\n",
      "\n",
      "Testing with storage level: Memory Serialized 1x Replicated\n",
      "Execution time with storage level Memory Serialized 1x Replicated: 5.2165443897247314 seconds\n",
      "\n",
      "Testing with storage level: Disk Memory Serialized 1x Replicated\n",
      "Execution time with storage level Disk Memory Serialized 1x Replicated: 5.176656246185303 seconds\n",
      "\n",
      "Testing with storage level: Disk Serialized 1x Replicated\n",
      "Execution time with storage level Disk Serialized 1x Replicated: 4.917440176010132 seconds\n"
     ]
    }
   ],
   "source": [
    "# 实验 4: 引入不同的存储级别，分析对性能的影响\n",
    "from pyspark.sql import SparkSession\n",
    "import time\n",
    "from pyspark import StorageLevel\n",
    "\n",
    "# 初始化 Spark 会话\n",
    "spark = SparkSession.builder.appName(\"StorageLevelExperiment\").master(\"spark://ecnu01:7077\") \\\n",
    "    .config(\"spark.executor.memory\", \"14g\") \\\n",
    "    .config(\"spark.executor.cores\", \"16\") \\\n",
    "    .config(\"spark.executor.instances\", \"2\") \\\n",
    "    .getOrCreate()\n",
    "# spark = SparkSession.builder.appName(\"StorageLevelExperiment\").getOrCreate()\n",
    "sc = spark.sparkContext\n",
    "\n",
    "# 创建一个大数据集\n",
    "data = [(i, i) for i in range(10**7)]  # 10万条数据\n",
    "\n",
    "# 创建 RDD\n",
    "rdd = sc.parallelize(data)\n",
    "\n",
    "# 测试不同的存储级别\n",
    "# StorageLevel.MEMORY_ONLY_SER, StorageLevel.MEMORY_ONLY_2\n",
    "for storage_level in [StorageLevel.MEMORY_ONLY,StorageLevel.MEMORY_AND_DISK, StorageLevel.MEMORY_ONLY_SER,StorageLevel.MEMORY_AND_DISK_SER,StorageLevel.DISK_ONLY]:\n",
    "    print(f\"\\nTesting with storage level: {storage_level}\")\n",
    "    \n",
    "    # 持久化 RDD\n",
    "    rdd_persisted = rdd.persist(storage_level)\n",
    "    \n",
    "    # 执行一个宽依赖操作 (reduceByKey)\n",
    "    start_time = time.time()\n",
    "    rdd_persisted.reduceByKey(lambda x, y: x + y).collect()  # 触发行动操作\n",
    "    end_time = time.time()\n",
    "    \n",
    "    print(f\"Execution time with storage level {storage_level}: {end_time - start_time} seconds\")\n",
    "    rdd_persisted.unpersist()\n",
    "\n",
    "sc.stop()\n"
   ]
  },
  {
   "cell_type": "code",
   "execution_count": 1,
   "metadata": {},
   "outputs": [
    {
     "name": "stdout",
     "output_type": "stream",
     "text": [
      "\n",
      "Testing with storage level: Memory Serialized 1x Replicated\n"
     ]
    },
    {
     "name": "stderr",
     "output_type": "stream",
     "text": [
      "Batch Progress: 100%|██████████| 100/100 [02:33<00:00,  1.53s/it]\n"
     ]
    },
    {
     "name": "stdout",
     "output_type": "stream",
     "text": [
      "Average execution time with storage level Memory Serialized 1x Replicated: 138.41379070281982 seconds\n",
      "\n",
      "Testing with storage level: Disk Memory Serialized 1x Replicated\n"
     ]
    },
    {
     "name": "stderr",
     "output_type": "stream",
     "text": [
      "Batch Progress: 100%|██████████| 100/100 [02:33<00:00,  1.53s/it]\n"
     ]
    },
    {
     "name": "stdout",
     "output_type": "stream",
     "text": [
      "Average execution time with storage level Disk Memory Serialized 1x Replicated: 140.13149499893188 seconds\n",
      "\n",
      "Testing with storage level: Memory Serialized 1x Replicated\n"
     ]
    },
    {
     "name": "stderr",
     "output_type": "stream",
     "text": [
      "Batch Progress: 100%|██████████| 100/100 [02:36<00:00,  1.57s/it]\n"
     ]
    },
    {
     "name": "stdout",
     "output_type": "stream",
     "text": [
      "Average execution time with storage level Memory Serialized 1x Replicated: 143.42867302894592 seconds\n",
      "\n",
      "Testing with storage level: Disk Memory Serialized 1x Replicated\n"
     ]
    },
    {
     "name": "stderr",
     "output_type": "stream",
     "text": [
      "Batch Progress: 100%|██████████| 100/100 [02:38<00:00,  1.59s/it]\n"
     ]
    },
    {
     "name": "stdout",
     "output_type": "stream",
     "text": [
      "Average execution time with storage level Disk Memory Serialized 1x Replicated: 145.36133098602295 seconds\n",
      "\n",
      "Testing with storage level: Disk Serialized 1x Replicated\n"
     ]
    },
    {
     "name": "stderr",
     "output_type": "stream",
     "text": [
      "Batch Progress: 100%|██████████| 100/100 [02:46<00:00,  1.67s/it]\n"
     ]
    },
    {
     "name": "stdout",
     "output_type": "stream",
     "text": [
      "Average execution time with storage level Disk Serialized 1x Replicated: 152.59918236732483 seconds\n"
     ]
    }
   ],
   "source": [
    "from pyspark.sql import SparkSession\n",
    "import time\n",
    "from pyspark import StorageLevel\n",
    "from tqdm import tqdm\n",
    "\n",
    "# 初始化 Spark 会话\n",
    "spark = SparkSession.builder.appName(\"StorageLevelExperiment\") \\\n",
    "    .master(\"spark://ecnu01:7077\") \\\n",
    "    .config(\"spark.executor.memory\", \"14g\") \\\n",
    "    .config(\"spark.executor.cores\", \"16\") \\\n",
    "    .config(\"spark.executor.instances\", \"2\") \\\n",
    "    .getOrCreate()\n",
    "sc = spark.sparkContext\n",
    "\n",
    "# 设置总数据量和每批次大小\n",
    "total_data_size = 10**7  # 100万条数据\n",
    "batch_size = 10**5       # 每个批次10万条数据\n",
    "num_batches = (total_data_size + batch_size - 1) // batch_size  # 计算需要的批次数量\n",
    "\n",
    "storage_level_names = [\n",
    "    StorageLevel.MEMORY_ONLY,\n",
    "    StorageLevel.MEMORY_AND_DISK,\n",
    "    StorageLevel.MEMORY_ONLY_SER,\n",
    "    StorageLevel.MEMORY_AND_DISK_SER,\n",
    "    StorageLevel.DISK_ONLY\n",
    "]\n",
    "average_times = []\n",
    "\n",
    "# 测试不同的存储级别\n",
    "for storage_level in storage_level_names:\n",
    "    print(f\"\\nTesting with storage level: {storage_level}\")\n",
    "    \n",
    "    # 重复执行次数\n",
    "    num_iterations = 1 #3\n",
    "    total_time = 0\n",
    "    \n",
    "    for i in range(num_iterations):\n",
    "        \n",
    "        # 在每次迭代开始前取消持久化（如果有的话）\n",
    "        if 'rdd_persisted' in locals():\n",
    "            rdd_persisted.unpersist()\n",
    "\n",
    "        # 对于每个存储级别，在每次迭代中重新创建并持久化RDD\n",
    "        for batch_index in tqdm(range(num_batches), desc=\"Batch Progress\"):\n",
    "            start_idx = batch_index * batch_size\n",
    "            end_idx = min(start_idx + batch_size, total_data_size)\n",
    "            data_batch = [(j, j) for j in range(start_idx, end_idx)]  # 创建一个批次的数据\n",
    "            \n",
    "            # 创建 RDD 并适当增加分区数以优化 shuffle 操作\n",
    "            rdd_batch = sc.parallelize(data_batch, numSlices=10)\n",
    "\n",
    "            # 持久化 RDD\n",
    "            rdd_persisted = rdd_batch.persist(storage_level)\n",
    "            \n",
    "            # 强制触发计算以确保数据被缓存\n",
    "            rdd_persisted.count()\n",
    "            \n",
    "            # 执行多个操作以增加复杂性\n",
    "            start_time = time.time()\n",
    "            # 宽依赖操作1: reduceByKey\n",
    "            result1 = rdd_persisted.reduceByKey(lambda x, y: x + y).collect() \n",
    "            # 宽依赖操作2: groupByKey\n",
    "            result2 = rdd_persisted.groupByKey().collect() \n",
    "            # 宽依赖操作3: join\n",
    "            result3 = rdd_persisted.join(rdd_persisted).collect()\n",
    "            \n",
    "            end_time = time.time()\n",
    "            total_time += (end_time - start_time)\n",
    "            \n",
    "            # 取消持久化当前批次的RDD\n",
    "            rdd_persisted.unpersist()\n",
    "\n",
    "    # 计算平均执行时间\n",
    "    average_time = total_time / (num_iterations)\n",
    "    average_times.append(average_time)\n",
    "    print(f\"Average execution time with storage level {storage_level}: {average_time} seconds\")\n",
    "\n",
    "# 停止 Spark 会话\n",
    "sc.stop()"
   ]
  },
  {
   "cell_type": "code",
   "execution_count": 4,
   "metadata": {},
   "outputs": [
    {
     "data": {
      "image/png": "[encoded data removed]",
      "text/plain": [
       "<Figure size 720x432 with 1 Axes>"
      ]
     },
     "metadata": {
      "needs_background": "light"
     },
     "output_type": "display_data"
    }
   ],
   "source": [
    "import matplotlib.pyplot as plt\n",
    "import numpy as np\n",
    "# 绘制折线图\n",
    "plt.figure(figsize=(10, 6))\n",
    "x_pos = np.arange(len(storage_level_names))\n",
    "\n",
    "# 折线图\n",
    "plt.plot(x_pos, average_times, marker='o', linestyle='-', color='blue', label='Average Execution Time')\n",
    "\n",
    "# 添加数值标签到点上\n",
    "for i, v in enumerate(average_times):\n",
    "    plt.text(i, v + 0.01, f\"{v:.2f}\", ha='center', va='bottom')\n",
    "\n",
    "# 设置X轴标签\n",
    "plt.xticks(x_pos, storage_level_names, rotation=45)\n",
    "plt.xlabel('Storage Level')\n",
    "plt.ylabel('Average Execution Time (seconds)')\n",
    "plt.title('Comparison of Different Storage Levels')\n",
    "plt.legend()\n",
    "plt.grid(True)\n",
    "\n",
    "# 保存图表\n",
    "plt.tight_layout()\n",
    "plt.savefig('storage_level_performance_line.png')\n",
    "plt.show()"
   ]
  },
  {
   "cell_type": "code",
   "execution_count": null,
   "metadata": {},
   "outputs": [],
   "source": []
  }
 ],
 "metadata": {
  "kernelspec": {
   "display_name": "envpyspark",
   "language": "python",
   "name": "envpyspark"
  },
  "language_info": {
   "codemirror_mode": {
    "name": "ipython",
    "version": 3
   },
   "file_extension": ".py",
   "mimetype": "text/x-python",
   "name": "python",
   "nbconvert_exporter": "python",
   "pygments_lexer": "ipython3",
   "version": "3.6.15"
  }
 },
 "nbformat": 4,
 "nbformat_minor": 4
}
