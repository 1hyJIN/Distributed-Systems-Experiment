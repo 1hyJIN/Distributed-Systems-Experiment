{
 "cells": [
  {
   "cell_type": "code",
   "execution_count": 1,
   "metadata": {},
   "outputs": [
    {
     "name": "stdout",
     "output_type": "stream",
     "text": [
      "\n",
      "--- Stage 内部数据传输测试（窄依赖操作） ---\n",
      "Execution time for narrow dependencies: 1.03 seconds\n",
      "Observe Spark UI: Only 1 Stage is created, no Shuffle occurs.\n",
      "\n",
      "--- Stage 之间数据传输测试（宽依赖操作） ---\n",
      "Execution time for wide dependencies: 0.90 seconds\n",
      "Observe Spark UI: Multiple Stages are created, Shuffle occurs.\n"
     ]
    }
   ],
   "source": [
    "from pyspark.sql import SparkSession\n",
    "import time\n",
    "\n",
    "# 初始化 Spark 会话\n",
    "spark = SparkSession.builder.appName(\"StageDataTransferExperiment\").master(\"spark://ecnu01:7077\") \\\n",
    "    .config(\"spark.executor.memory\", \"14g\") \\\n",
    "    .config(\"spark.executor.cores\", \"16\") \\\n",
    "    .config(\"spark.executor.instances\", \"2\") \\\n",
    "    .config(\"spark.driver.memory\", \"4g\") \\\n",
    "    .config(\"spark.ui.retainedStages\", \"100\") \\\n",
    "    .config(\"spark.ui.retainedJobs\", \"100\") \\\n",
    "    .config(\"spark.ui.port\", \"8000\") \\\n",
    "    .getOrCreate()\n",
    "    \n",
    "sc = spark.sparkContext\n",
    "\n",
    "# 创建一个示例数据集\n",
    "data = [(i % 10, i) for i in range(100000)]  # 100 万条数据，key 有 10 个唯一值\n",
    "rdd = sc.parallelize(data, 4)  # 初始分区为 4\n",
    "\n",
    "# ================== Stage 内部数据传输（窄依赖操作） ==================\n",
    "print(\"\\n--- Stage 内部数据传输测试（窄依赖操作） ---\")\n",
    "time.sleep(5)  # 等待 UI 启动\n",
    "start_time = time.time()\n",
    "\n",
    "# 仅使用窄依赖操作（map 和 filter），不会触发新的 Stage\n",
    "rdd_narrow0 = rdd.map(lambda x: (x[0]*3, x[1]))\n",
    "rdd_narrow = rdd.map(lambda x: (x[0], x[1] * 2))\n",
    "rdd_narrow = rdd_narrow.filter(lambda x: x[1] % 2 == 0)\n",
    "rdd_narrow = rdd_narrow.union(rdd_narrow0)\n",
    "rdd_narrow = rdd_narrow.flatMap(lambda x: [(x[0], x[1] * 2)])\n",
    "rdd_narrow = rdd_narrow.sample(False, 0.5)\n",
    "rdd_narrow = rdd_narrow.mapValues(lambda x: x * 2)\n",
    "\n",
    "# 触发行动操作\n",
    "rdd_narrow.count()\n",
    "\n",
    "end_time = time.time()\n",
    "# print(rdd_narrow.toDebugString())\n",
    "print(f\"Execution time for narrow dependencies: {end_time - start_time:.2f} seconds\")\n",
    "print(\"Observe Spark UI: Only 1 Stage is created, no Shuffle occurs.\")\n",
    "\n",
    "# ================== Stage 之间数据传输（宽依赖操作） ==================\n",
    "print(\"\\n--- Stage 之间数据传输测试（宽依赖操作） ---\")\n",
    "time.sleep(5)  # 等待 UI 刷新\n",
    "start_time = time.time()\n",
    "\n",
    "# 使用宽依赖操作（groupByKey），触发 Shuffle 和新的 Stage\n",
    "rdd_wide = rdd.groupByKey()\n",
    "rdd_wide1 = rdd.reduceByKey(lambda x, y: x + y)\n",
    "\n",
    "# 触发行动操作\n",
    "rdd_wide.mapValues(len).collect()\n",
    "rdd_wide1.collect()\n",
    "\n",
    "# 使用 join 操作（宽依赖操作）触发 Shuffle\n",
    "# rdd_wide2 = sc.parallelize([(i % 10, i) for i in range(100000)])\n",
    "# rdd_wide3 = rdd.join(rdd_wide2)\n",
    "\n",
    "# 使用 cogroup 操作（宽依赖操作）触发 Shuffle\n",
    "# rdd_wide4 = rdd.cogroup(rdd_wide2)\n",
    "# rdd_wide2.collect()\n",
    "# rdd_wide3.collect()\n",
    "# rdd_wide4.collect()\n",
    "\n",
    "end_time = time.time()\n",
    "# print(rdd_narrow.toDebugString())\n",
    "print(f\"Execution time for wide dependencies: {end_time - start_time:.2f} seconds\")\n",
    "print(\"Observe Spark UI: Multiple Stages are created, Shuffle occurs.\")\n",
    "sc.stop()\n"
   ]
  }
 ],
 "metadata": {
  "kernelspec": {
   "display_name": "envpyspark",
   "language": "python",
   "name": "envpyspark"
  },
  "language_info": {
   "codemirror_mode": {
    "name": "ipython",
    "version": 3
   },
   "file_extension": ".py",
   "mimetype": "text/x-python",
   "name": "python",
   "nbconvert_exporter": "python",
   "pygments_lexer": "ipython3",
   "version": "3.6.15"
  }
 },
 "nbformat": 4,
 "nbformat_minor": 4
}
